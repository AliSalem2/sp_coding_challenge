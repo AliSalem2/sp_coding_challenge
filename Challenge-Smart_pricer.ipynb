{
 "cells": [
  {
   "cell_type": "markdown",
   "id": "0acbdace",
   "metadata": {},
   "source": [
    "# CHALLENGE: Smart Pricer \n",
    "\n"
   ]
  },
  {
   "cell_type": "markdown",
   "id": "5e5ee9e0",
   "metadata": {},
   "source": [
    "### Imports and loading csv\n",
    "\n",
    "\n",
    "\n"
   ]
  },
  {
   "cell_type": "code",
   "execution_count": 5,
   "id": "1e1745b3",
   "metadata": {},
   "outputs": [],
   "source": [
    "import pandas as pd\n",
    "import numpy as np\n",
    "import seaborn as sns\n"
   ]
  },
  {
   "cell_type": "code",
   "execution_count": 6,
   "id": "df3e8a24",
   "metadata": {},
   "outputs": [
    {
     "name": "stdout",
     "output_type": "stream",
     "text": [
      "Challenge-Smart_pricer.ipynb  notebooks  README.md\t   setup.py\r\n",
      "Makefile\t\t      output\t requirements.txt  sp_coding_challenge\r\n",
      "MANIFEST.in\t\t      raw_data\t scripts\t   tests\r\n"
     ]
    }
   ],
   "source": [
    "!ls"
   ]
  },
  {
   "cell_type": "code",
   "execution_count": 7,
   "id": "f62a4c97",
   "metadata": {},
   "outputs": [],
   "source": [
    "# loading dataframe\n",
    "df = pd.read_csv(\"raw_data/data_export.csv\", delimiter=\";\")"
   ]
  },
  {
   "cell_type": "code",
   "execution_count": 8,
   "id": "b515f2cd",
   "metadata": {},
   "outputs": [
    {
     "data": {
      "text/html": [
       "<div>\n",
       "<style scoped>\n",
       "    .dataframe tbody tr th:only-of-type {\n",
       "        vertical-align: middle;\n",
       "    }\n",
       "\n",
       "    .dataframe tbody tr th {\n",
       "        vertical-align: top;\n",
       "    }\n",
       "\n",
       "    .dataframe thead th {\n",
       "        text-align: right;\n",
       "    }\n",
       "</style>\n",
       "<table border=\"1\" class=\"dataframe\">\n",
       "  <thead>\n",
       "    <tr style=\"text-align: right;\">\n",
       "      <th></th>\n",
       "      <th>YRES_ID</th>\n",
       "      <th>ticket_types</th>\n",
       "      <th>person_types</th>\n",
       "      <th>event_date</th>\n",
       "      <th>channel</th>\n",
       "      <th>preiscode</th>\n",
       "      <th>price</th>\n",
       "      <th>purchase_dt</th>\n",
       "      <th>land</th>\n",
       "    </tr>\n",
       "  </thead>\n",
       "  <tbody>\n",
       "    <tr>\n",
       "      <th>0</th>\n",
       "      <td>0</td>\n",
       "      <td>B</td>\n",
       "      <td>senior</td>\n",
       "      <td>2019-03-15</td>\n",
       "      <td>KASSA3</td>\n",
       "      <td>ffp2</td>\n",
       "      <td>10,5</td>\n",
       "      <td>12.03.2019 17:01:46</td>\n",
       "      <td>Deutschland</td>\n",
       "    </tr>\n",
       "    <tr>\n",
       "      <th>1</th>\n",
       "      <td>1</td>\n",
       "      <td>B</td>\n",
       "      <td>adult</td>\n",
       "      <td>2019-02-27</td>\n",
       "      <td>webshop_3</td>\n",
       "      <td>ffp�</td>\n",
       "      <td>10,5</td>\n",
       "      <td>25.02.2019 06:07:42</td>\n",
       "      <td>Deutschland</td>\n",
       "    </tr>\n",
       "    <tr>\n",
       "      <th>2</th>\n",
       "      <td>2</td>\n",
       "      <td>B</td>\n",
       "      <td>senior</td>\n",
       "      <td>2019-02-21</td>\n",
       "      <td>KASSA3</td>\n",
       "      <td>ffp2</td>\n",
       "      <td>18,6</td>\n",
       "      <td>14.02.2019 00:26:15</td>\n",
       "      <td>Deutschland</td>\n",
       "    </tr>\n",
       "    <tr>\n",
       "      <th>3</th>\n",
       "      <td>3</td>\n",
       "      <td>B</td>\n",
       "      <td>senior</td>\n",
       "      <td>2018-12-13</td>\n",
       "      <td>KASSA3</td>\n",
       "      <td>ffp�</td>\n",
       "      <td>18,6</td>\n",
       "      <td>08.12.2018 16:51:50</td>\n",
       "      <td>Deutschland</td>\n",
       "    </tr>\n",
       "    <tr>\n",
       "      <th>4</th>\n",
       "      <td>4</td>\n",
       "      <td>B</td>\n",
       "      <td>senior</td>\n",
       "      <td>2018-12-09</td>\n",
       "      <td>webshop_3</td>\n",
       "      <td>ffp�</td>\n",
       "      <td>9,0</td>\n",
       "      <td>01.12.2018 14:12:03</td>\n",
       "      <td>Deutschland</td>\n",
       "    </tr>\n",
       "    <tr>\n",
       "      <th>...</th>\n",
       "      <td>...</td>\n",
       "      <td>...</td>\n",
       "      <td>...</td>\n",
       "      <td>...</td>\n",
       "      <td>...</td>\n",
       "      <td>...</td>\n",
       "      <td>...</td>\n",
       "      <td>...</td>\n",
       "      <td>...</td>\n",
       "    </tr>\n",
       "    <tr>\n",
       "      <th>95</th>\n",
       "      <td>95</td>\n",
       "      <td>B</td>\n",
       "      <td>child</td>\n",
       "      <td>2018-12-21</td>\n",
       "      <td>KASSA3</td>\n",
       "      <td>ffp2</td>\n",
       "      <td>85,0</td>\n",
       "      <td>16.12.2018 07:11:26</td>\n",
       "      <td>Deutschland</td>\n",
       "    </tr>\n",
       "    <tr>\n",
       "      <th>96</th>\n",
       "      <td>96</td>\n",
       "      <td>C</td>\n",
       "      <td>senior</td>\n",
       "      <td>2019-02-09</td>\n",
       "      <td>webshop_3</td>\n",
       "      <td>ffp2</td>\n",
       "      <td>18,6</td>\n",
       "      <td>01.02.2019 00:00:54</td>\n",
       "      <td>Deutschland</td>\n",
       "    </tr>\n",
       "    <tr>\n",
       "      <th>97</th>\n",
       "      <td>97</td>\n",
       "      <td>A</td>\n",
       "      <td>senior</td>\n",
       "      <td>2019-03-09</td>\n",
       "      <td>KASSA1</td>\n",
       "      <td>ffp2</td>\n",
       "      <td>10,5</td>\n",
       "      <td>28.02.2019 18:11:06</td>\n",
       "      <td>Deutschland</td>\n",
       "    </tr>\n",
       "    <tr>\n",
       "      <th>98</th>\n",
       "      <td>98</td>\n",
       "      <td>B</td>\n",
       "      <td>child</td>\n",
       "      <td>2019-03-15</td>\n",
       "      <td>KASSA1</td>\n",
       "      <td>ffp2</td>\n",
       "      <td>14,0</td>\n",
       "      <td>08.03.2019 20:04:31</td>\n",
       "      <td>Deutschland</td>\n",
       "    </tr>\n",
       "    <tr>\n",
       "      <th>99</th>\n",
       "      <td>99</td>\n",
       "      <td>C</td>\n",
       "      <td>senior</td>\n",
       "      <td>2019-03-17</td>\n",
       "      <td>KASSA3</td>\n",
       "      <td>ffp2</td>\n",
       "      <td>12,0</td>\n",
       "      <td>10.03.2019 16:04:01</td>\n",
       "      <td>Deutschland</td>\n",
       "    </tr>\n",
       "  </tbody>\n",
       "</table>\n",
       "<p>100 rows × 9 columns</p>\n",
       "</div>"
      ],
      "text/plain": [
       "    YRES_ID ticket_types person_types  event_date    channel preiscode price  \\\n",
       "0         0            B       senior  2019-03-15     KASSA3      ffp2  10,5   \n",
       "1         1            B        adult  2019-02-27  webshop_3      ffp�  10,5   \n",
       "2         2            B       senior  2019-02-21     KASSA3      ffp2  18,6   \n",
       "3         3            B       senior  2018-12-13     KASSA3      ffp�  18,6   \n",
       "4         4            B       senior  2018-12-09  webshop_3      ffp�   9,0   \n",
       "..      ...          ...          ...         ...        ...       ...   ...   \n",
       "95       95            B        child  2018-12-21     KASSA3      ffp2  85,0   \n",
       "96       96            C       senior  2019-02-09  webshop_3      ffp2  18,6   \n",
       "97       97            A       senior  2019-03-09     KASSA1      ffp2  10,5   \n",
       "98       98            B        child  2019-03-15     KASSA1      ffp2  14,0   \n",
       "99       99            C       senior  2019-03-17     KASSA3      ffp2  12,0   \n",
       "\n",
       "            purchase_dt         land  \n",
       "0   12.03.2019 17:01:46  Deutschland  \n",
       "1   25.02.2019 06:07:42  Deutschland  \n",
       "2   14.02.2019 00:26:15  Deutschland  \n",
       "3   08.12.2018 16:51:50  Deutschland  \n",
       "4   01.12.2018 14:12:03  Deutschland  \n",
       "..                  ...          ...  \n",
       "95  16.12.2018 07:11:26  Deutschland  \n",
       "96  01.02.2019 00:00:54  Deutschland  \n",
       "97  28.02.2019 18:11:06  Deutschland  \n",
       "98  08.03.2019 20:04:31  Deutschland  \n",
       "99  10.03.2019 16:04:01  Deutschland  \n",
       "\n",
       "[100 rows x 9 columns]"
      ]
     },
     "execution_count": 8,
     "metadata": {},
     "output_type": "execute_result"
    }
   ],
   "source": [
    "#df.set_index(\"YRES_ID\", inplace= True)\n",
    "df\n"
   ]
  },
  {
   "cell_type": "markdown",
   "id": "3e0ea4cd",
   "metadata": {},
   "source": [
    "### Data exploration \n"
   ]
  },
  {
   "cell_type": "code",
   "execution_count": 9,
   "id": "631aaf0e",
   "metadata": {},
   "outputs": [
    {
     "data": {
      "text/plain": [
       "YRES_ID         0\n",
       "ticket_types    0\n",
       "person_types    0\n",
       "event_date      0\n",
       "channel         0\n",
       "preiscode       0\n",
       "price           0\n",
       "purchase_dt     0\n",
       "land            0\n",
       "dtype: int64"
      ]
     },
     "execution_count": 9,
     "metadata": {},
     "output_type": "execute_result"
    }
   ],
   "source": [
    "df.isnull().sum()\n",
    "#checking for missing values"
   ]
  },
  {
   "cell_type": "code",
   "execution_count": 10,
   "id": "b4a39a34",
   "metadata": {},
   "outputs": [
    {
     "data": {
      "text/plain": [
       "YRES_ID          int64\n",
       "ticket_types    object\n",
       "person_types    object\n",
       "event_date      object\n",
       "channel         object\n",
       "preiscode       object\n",
       "price           object\n",
       "purchase_dt     object\n",
       "land            object\n",
       "dtype: object"
      ]
     },
     "execution_count": 10,
     "metadata": {},
     "output_type": "execute_result"
    }
   ],
   "source": [
    "df.dtypes\n",
    "# types of the columns"
   ]
  },
  {
   "cell_type": "code",
   "execution_count": 11,
   "id": "d366318f",
   "metadata": {
    "scrolled": true
   },
   "outputs": [
    {
     "data": {
      "text/plain": [
       "array(['Deutschland'], dtype=object)"
      ]
     },
     "execution_count": 11,
     "metadata": {},
     "output_type": "execute_result"
    }
   ],
   "source": [
    "df[\"land\"].unique()"
   ]
  },
  {
   "cell_type": "code",
   "execution_count": 12,
   "id": "b548e28f",
   "metadata": {},
   "outputs": [
    {
     "data": {
      "text/plain": [
       "array(['B', 'C', 'A'], dtype=object)"
      ]
     },
     "execution_count": 12,
     "metadata": {},
     "output_type": "execute_result"
    }
   ],
   "source": [
    "df[\"ticket_types\"].unique()\n"
   ]
  },
  {
   "cell_type": "code",
   "execution_count": 13,
   "id": "e8f29618",
   "metadata": {},
   "outputs": [
    {
     "data": {
      "text/plain": [
       "array(['senior', 'adult', 'child'], dtype=object)"
      ]
     },
     "execution_count": 13,
     "metadata": {},
     "output_type": "execute_result"
    }
   ],
   "source": [
    "df[\"person_types\"].unique()\n"
   ]
  },
  {
   "cell_type": "code",
   "execution_count": 14,
   "id": "46c9c835",
   "metadata": {},
   "outputs": [
    {
     "data": {
      "text/plain": [
       "array(['KASSA3', 'webshop_3', 'KASSA1'], dtype=object)"
      ]
     },
     "execution_count": 14,
     "metadata": {},
     "output_type": "execute_result"
    }
   ],
   "source": [
    "df[\"channel\"].unique()"
   ]
  },
  {
   "cell_type": "code",
   "execution_count": 15,
   "id": "fe692d7d",
   "metadata": {},
   "outputs": [
    {
     "data": {
      "text/plain": [
       "'10,5'"
      ]
     },
     "execution_count": 15,
     "metadata": {},
     "output_type": "execute_result"
    }
   ],
   "source": [
    "df[\"price\"].min()"
   ]
  },
  {
   "cell_type": "markdown",
   "id": "0b772e66",
   "metadata": {},
   "source": [
    "### fixing the types for the columns \"price\" , \"purchase_dt\" and  \"event_date\""
   ]
  },
  {
   "cell_type": "code",
   "execution_count": 16,
   "id": "32d0ee0e",
   "metadata": {},
   "outputs": [],
   "source": [
    "df[\"purchase_dt\"] = pd.to_datetime(df[\"purchase_dt\"])"
   ]
  },
  {
   "cell_type": "code",
   "execution_count": 17,
   "id": "1291b6be",
   "metadata": {},
   "outputs": [],
   "source": [
    "df[\"event_date\"] = pd.to_datetime(df[\"event_date\"])"
   ]
  },
  {
   "cell_type": "code",
   "execution_count": 18,
   "id": "786d8b1d",
   "metadata": {},
   "outputs": [],
   "source": [
    "#Replacing the comma with dot\n",
    "df[\"price\"] = df[\"price\"].str.replace(',','.')"
   ]
  },
  {
   "cell_type": "code",
   "execution_count": 19,
   "id": "b0a4126e",
   "metadata": {},
   "outputs": [],
   "source": [
    "df[\"price\"] = pd.to_numeric(df[\"price\"])"
   ]
  },
  {
   "cell_type": "code",
   "execution_count": 20,
   "id": "a8e156d8",
   "metadata": {},
   "outputs": [
    {
     "data": {
      "text/plain": [
       "YRES_ID                  int64\n",
       "ticket_types            object\n",
       "person_types            object\n",
       "event_date      datetime64[ns]\n",
       "channel                 object\n",
       "preiscode               object\n",
       "price                  float64\n",
       "purchase_dt     datetime64[ns]\n",
       "land                    object\n",
       "dtype: object"
      ]
     },
     "execution_count": 20,
     "metadata": {},
     "output_type": "execute_result"
    }
   ],
   "source": [
    "df.dtypes"
   ]
  },
  {
   "cell_type": "code",
   "execution_count": 21,
   "id": "e2921fc2",
   "metadata": {},
   "outputs": [
    {
     "data": {
      "text/plain": [
       "9.0"
      ]
     },
     "execution_count": 21,
     "metadata": {},
     "output_type": "execute_result"
    }
   ],
   "source": [
    "df[\"price\"].min()"
   ]
  },
  {
   "cell_type": "code",
   "execution_count": 22,
   "id": "1eeae6d9",
   "metadata": {},
   "outputs": [
    {
     "data": {
      "text/plain": [
       "85.0"
      ]
     },
     "execution_count": 22,
     "metadata": {},
     "output_type": "execute_result"
    }
   ],
   "source": [
    "df[\"price\"].max()"
   ]
  },
  {
   "cell_type": "code",
   "execution_count": 23,
   "id": "dafb28e9",
   "metadata": {},
   "outputs": [
    {
     "data": {
      "text/html": [
       "<div>\n",
       "<style scoped>\n",
       "    .dataframe tbody tr th:only-of-type {\n",
       "        vertical-align: middle;\n",
       "    }\n",
       "\n",
       "    .dataframe tbody tr th {\n",
       "        vertical-align: top;\n",
       "    }\n",
       "\n",
       "    .dataframe thead th {\n",
       "        text-align: right;\n",
       "    }\n",
       "</style>\n",
       "<table border=\"1\" class=\"dataframe\">\n",
       "  <thead>\n",
       "    <tr style=\"text-align: right;\">\n",
       "      <th></th>\n",
       "      <th>YRES_ID</th>\n",
       "      <th>ticket_types</th>\n",
       "      <th>person_types</th>\n",
       "      <th>event_date</th>\n",
       "      <th>channel</th>\n",
       "      <th>preiscode</th>\n",
       "      <th>price</th>\n",
       "      <th>purchase_dt</th>\n",
       "      <th>land</th>\n",
       "    </tr>\n",
       "  </thead>\n",
       "  <tbody>\n",
       "    <tr>\n",
       "      <th>0</th>\n",
       "      <td>0</td>\n",
       "      <td>B</td>\n",
       "      <td>senior</td>\n",
       "      <td>2019-03-15</td>\n",
       "      <td>KASSA3</td>\n",
       "      <td>ffp2</td>\n",
       "      <td>10.5</td>\n",
       "      <td>2019-12-03 17:01:46</td>\n",
       "      <td>Deutschland</td>\n",
       "    </tr>\n",
       "    <tr>\n",
       "      <th>1</th>\n",
       "      <td>1</td>\n",
       "      <td>B</td>\n",
       "      <td>adult</td>\n",
       "      <td>2019-02-27</td>\n",
       "      <td>webshop_3</td>\n",
       "      <td>ffp�</td>\n",
       "      <td>10.5</td>\n",
       "      <td>2019-02-25 06:07:42</td>\n",
       "      <td>Deutschland</td>\n",
       "    </tr>\n",
       "    <tr>\n",
       "      <th>2</th>\n",
       "      <td>2</td>\n",
       "      <td>B</td>\n",
       "      <td>senior</td>\n",
       "      <td>2019-02-21</td>\n",
       "      <td>KASSA3</td>\n",
       "      <td>ffp2</td>\n",
       "      <td>18.6</td>\n",
       "      <td>2019-02-14 00:26:15</td>\n",
       "      <td>Deutschland</td>\n",
       "    </tr>\n",
       "  </tbody>\n",
       "</table>\n",
       "</div>"
      ],
      "text/plain": [
       "   YRES_ID ticket_types person_types event_date    channel preiscode  price  \\\n",
       "0        0            B       senior 2019-03-15     KASSA3      ffp2   10.5   \n",
       "1        1            B        adult 2019-02-27  webshop_3      ffp�   10.5   \n",
       "2        2            B       senior 2019-02-21     KASSA3      ffp2   18.6   \n",
       "\n",
       "          purchase_dt         land  \n",
       "0 2019-12-03 17:01:46  Deutschland  \n",
       "1 2019-02-25 06:07:42  Deutschland  \n",
       "2 2019-02-14 00:26:15  Deutschland  "
      ]
     },
     "execution_count": 23,
     "metadata": {},
     "output_type": "execute_result"
    }
   ],
   "source": [
    "df.head(3)\n"
   ]
  },
  {
   "cell_type": "code",
   "execution_count": 24,
   "id": "f7c668db",
   "metadata": {},
   "outputs": [
    {
     "data": {
      "text/plain": [
       "<seaborn.axisgrid.FacetGrid at 0x7f7c53dafee0>"
      ]
     },
     "execution_count": 24,
     "metadata": {},
     "output_type": "execute_result"
    },
    {
     "data": {
      "image/png": "[encoded data removed]",
      "text/plain": [
       "<Figure size 360x360 with 1 Axes>"
      ]
     },
     "metadata": {
      "needs_background": "light"
     },
     "output_type": "display_data"
    }
   ],
   "source": [
    "sns.displot(data= df, x=\"price\")\n",
    "\n"
   ]
  },
  {
   "cell_type": "code",
   "execution_count": 25,
   "id": "74f650b7",
   "metadata": {},
   "outputs": [
    {
     "data": {
      "text/plain": [
       "Index(['YRES_ID', 'ticket_types', 'person_types', 'event_date', 'channel',\n",
       "       'preiscode', 'price', 'purchase_dt', 'land'],\n",
       "      dtype='object')"
      ]
     },
     "execution_count": 25,
     "metadata": {},
     "output_type": "execute_result"
    }
   ],
   "source": [
    "df.columns"
   ]
  },
  {
   "cell_type": "markdown",
   "id": "0ad0e19d",
   "metadata": {},
   "source": [
    "### Tickets\n"
   ]
  },
  {
   "cell_type": "code",
   "execution_count": 26,
   "id": "70b1b622",
   "metadata": {},
   "outputs": [
    {
     "data": {
      "text/plain": [
       "A    35\n",
       "C    33\n",
       "B    32\n",
       "Name: ticket_types, dtype: int64"
      ]
     },
     "execution_count": 26,
     "metadata": {},
     "output_type": "execute_result"
    }
   ],
   "source": [
    "df[\"ticket_types\"].value_counts()\n"
   ]
  },
  {
   "cell_type": "code",
   "execution_count": 27,
   "id": "e44c67d5",
   "metadata": {},
   "outputs": [
    {
     "data": {
      "text/html": [
       "<div>\n",
       "<style scoped>\n",
       "    .dataframe tbody tr th:only-of-type {\n",
       "        vertical-align: middle;\n",
       "    }\n",
       "\n",
       "    .dataframe tbody tr th {\n",
       "        vertical-align: top;\n",
       "    }\n",
       "\n",
       "    .dataframe thead th {\n",
       "        text-align: right;\n",
       "    }\n",
       "</style>\n",
       "<table border=\"1\" class=\"dataframe\">\n",
       "  <thead>\n",
       "    <tr style=\"text-align: right;\">\n",
       "      <th></th>\n",
       "      <th>sum</th>\n",
       "      <th>count</th>\n",
       "    </tr>\n",
       "    <tr>\n",
       "      <th>ticket_types</th>\n",
       "      <th></th>\n",
       "      <th></th>\n",
       "    </tr>\n",
       "  </thead>\n",
       "  <tbody>\n",
       "    <tr>\n",
       "      <th>A</th>\n",
       "      <td>1019.4</td>\n",
       "      <td>35</td>\n",
       "    </tr>\n",
       "    <tr>\n",
       "      <th>B</th>\n",
       "      <td>649.9</td>\n",
       "      <td>32</td>\n",
       "    </tr>\n",
       "    <tr>\n",
       "      <th>C</th>\n",
       "      <td>703.9</td>\n",
       "      <td>33</td>\n",
       "    </tr>\n",
       "  </tbody>\n",
       "</table>\n",
       "</div>"
      ],
      "text/plain": [
       "                 sum  count\n",
       "ticket_types               \n",
       "A             1019.4     35\n",
       "B              649.9     32\n",
       "C              703.9     33"
      ]
     },
     "execution_count": 27,
     "metadata": {},
     "output_type": "execute_result"
    }
   ],
   "source": [
    "df_tickets= df.groupby(by=[\"ticket_types\"])[\"price\"].agg(['sum','count'])\n",
    "df_tickets\n"
   ]
  },
  {
   "cell_type": "code",
   "execution_count": 28,
   "id": "c6271cb0",
   "metadata": {},
   "outputs": [
    {
     "data": {
      "text/plain": [
       "<AxesSubplot:xlabel='ticket_types'>"
      ]
     },
     "execution_count": 28,
     "metadata": {},
     "output_type": "execute_result"
    },
    {
     "data": {
      "image/png": "[encoded data removed]",
      "text/plain": [
       "<Figure size 432x288 with 1 Axes>"
      ]
     },
     "metadata": {
      "needs_background": "light"
     },
     "output_type": "display_data"
    }
   ],
   "source": [
    "df.groupby(by=[\"ticket_types\"]).sum()[[\"price\"]].plot(kind=\"bar\")"
   ]
  },
  {
   "cell_type": "markdown",
   "id": "d1fd8f9d",
   "metadata": {},
   "source": [
    "### Person_types\n"
   ]
  },
  {
   "cell_type": "code",
   "execution_count": 29,
   "id": "977852c5",
   "metadata": {},
   "outputs": [
    {
     "data": {
      "text/html": [
       "<div>\n",
       "<style scoped>\n",
       "    .dataframe tbody tr th:only-of-type {\n",
       "        vertical-align: middle;\n",
       "    }\n",
       "\n",
       "    .dataframe tbody tr th {\n",
       "        vertical-align: top;\n",
       "    }\n",
       "\n",
       "    .dataframe thead th {\n",
       "        text-align: right;\n",
       "    }\n",
       "</style>\n",
       "<table border=\"1\" class=\"dataframe\">\n",
       "  <thead>\n",
       "    <tr style=\"text-align: right;\">\n",
       "      <th></th>\n",
       "      <th>sum</th>\n",
       "      <th>count</th>\n",
       "    </tr>\n",
       "    <tr>\n",
       "      <th>person_types</th>\n",
       "      <th></th>\n",
       "      <th></th>\n",
       "    </tr>\n",
       "  </thead>\n",
       "  <tbody>\n",
       "    <tr>\n",
       "      <th>adult</th>\n",
       "      <td>1014.4</td>\n",
       "      <td>34</td>\n",
       "    </tr>\n",
       "    <tr>\n",
       "      <th>child</th>\n",
       "      <td>936.6</td>\n",
       "      <td>40</td>\n",
       "    </tr>\n",
       "    <tr>\n",
       "      <th>senior</th>\n",
       "      <td>422.2</td>\n",
       "      <td>26</td>\n",
       "    </tr>\n",
       "  </tbody>\n",
       "</table>\n",
       "</div>"
      ],
      "text/plain": [
       "                 sum  count\n",
       "person_types               \n",
       "adult         1014.4     34\n",
       "child          936.6     40\n",
       "senior         422.2     26"
      ]
     },
     "execution_count": 29,
     "metadata": {},
     "output_type": "execute_result"
    }
   ],
   "source": [
    "df_persons = df.groupby(by=[\"person_types\"])[\"price\"].agg(['sum','count'])\n",
    "df_persons\n"
   ]
  },
  {
   "cell_type": "markdown",
   "id": "779bef5c",
   "metadata": {},
   "source": [
    "### Channel\n",
    "\n",
    "\n"
   ]
  },
  {
   "cell_type": "code",
   "execution_count": 30,
   "id": "27130d9e",
   "metadata": {},
   "outputs": [
    {
     "data": {
      "text/html": [
       "<div>\n",
       "<style scoped>\n",
       "    .dataframe tbody tr th:only-of-type {\n",
       "        vertical-align: middle;\n",
       "    }\n",
       "\n",
       "    .dataframe tbody tr th {\n",
       "        vertical-align: top;\n",
       "    }\n",
       "\n",
       "    .dataframe thead th {\n",
       "        text-align: right;\n",
       "    }\n",
       "</style>\n",
       "<table border=\"1\" class=\"dataframe\">\n",
       "  <thead>\n",
       "    <tr style=\"text-align: right;\">\n",
       "      <th></th>\n",
       "      <th>sum</th>\n",
       "      <th>count</th>\n",
       "    </tr>\n",
       "    <tr>\n",
       "      <th>channel</th>\n",
       "      <th></th>\n",
       "      <th></th>\n",
       "    </tr>\n",
       "  </thead>\n",
       "  <tbody>\n",
       "    <tr>\n",
       "      <th>KASSA1</th>\n",
       "      <td>753.9</td>\n",
       "      <td>31</td>\n",
       "    </tr>\n",
       "    <tr>\n",
       "      <th>KASSA3</th>\n",
       "      <td>933.9</td>\n",
       "      <td>37</td>\n",
       "    </tr>\n",
       "    <tr>\n",
       "      <th>webshop_3</th>\n",
       "      <td>685.4</td>\n",
       "      <td>32</td>\n",
       "    </tr>\n",
       "  </tbody>\n",
       "</table>\n",
       "</div>"
      ],
      "text/plain": [
       "             sum  count\n",
       "channel                \n",
       "KASSA1     753.9     31\n",
       "KASSA3     933.9     37\n",
       "webshop_3  685.4     32"
      ]
     },
     "execution_count": 30,
     "metadata": {},
     "output_type": "execute_result"
    }
   ],
   "source": [
    "df_channels = df.groupby(by=[\"channel\"])[\"price\"].agg(['sum','count'])\n",
    "\n",
    "df_channels"
   ]
  },
  {
   "cell_type": "markdown",
   "id": "867779b3",
   "metadata": {},
   "source": [
    "### Preiscode\n"
   ]
  },
  {
   "cell_type": "code",
   "execution_count": 31,
   "id": "c273e673",
   "metadata": {},
   "outputs": [
    {
     "data": {
      "text/html": [
       "<div>\n",
       "<style scoped>\n",
       "    .dataframe tbody tr th:only-of-type {\n",
       "        vertical-align: middle;\n",
       "    }\n",
       "\n",
       "    .dataframe tbody tr th {\n",
       "        vertical-align: top;\n",
       "    }\n",
       "\n",
       "    .dataframe thead th {\n",
       "        text-align: right;\n",
       "    }\n",
       "</style>\n",
       "<table border=\"1\" class=\"dataframe\">\n",
       "  <thead>\n",
       "    <tr style=\"text-align: right;\">\n",
       "      <th></th>\n",
       "      <th>sum</th>\n",
       "      <th>count</th>\n",
       "    </tr>\n",
       "    <tr>\n",
       "      <th>preiscode</th>\n",
       "      <th></th>\n",
       "      <th></th>\n",
       "    </tr>\n",
       "  </thead>\n",
       "  <tbody>\n",
       "    <tr>\n",
       "      <th>asdfg</th>\n",
       "      <td>614.9</td>\n",
       "      <td>25</td>\n",
       "    </tr>\n",
       "    <tr>\n",
       "      <th>ffp2</th>\n",
       "      <td>1075.3</td>\n",
       "      <td>44</td>\n",
       "    </tr>\n",
       "    <tr>\n",
       "      <th>ffp�</th>\n",
       "      <td>683.0</td>\n",
       "      <td>31</td>\n",
       "    </tr>\n",
       "  </tbody>\n",
       "</table>\n",
       "</div>"
      ],
      "text/plain": [
       "              sum  count\n",
       "preiscode               \n",
       "asdfg       614.9     25\n",
       "ffp2       1075.3     44\n",
       "ffp�        683.0     31"
      ]
     },
     "execution_count": 31,
     "metadata": {},
     "output_type": "execute_result"
    }
   ],
   "source": [
    "df_preiscodes = df.groupby(by=[\"preiscode\"])[\"price\"].agg(['sum','count'])\n",
    "df_preiscodes"
   ]
  },
  {
   "cell_type": "markdown",
   "id": "b47f536f",
   "metadata": {},
   "source": [
    "### Year"
   ]
  },
  {
   "cell_type": "code",
   "execution_count": 32,
   "id": "8c305f77",
   "metadata": {},
   "outputs": [],
   "source": [
    "# df['purchase_year'] = pd.DatetimeIndex(df['event_date']).year\n",
    "# df_event_year = df.groupby(by=[\"event_year\"])[\"price\"].agg(['sum','count'])\n",
    "# df_event_year\n"
   ]
  },
  {
   "cell_type": "code",
   "execution_count": null,
   "id": "0437d6f6",
   "metadata": {},
   "outputs": [],
   "source": []
  },
  {
   "cell_type": "code",
   "execution_count": 33,
   "id": "0ab0249c",
   "metadata": {},
   "outputs": [],
   "source": [
    "df['year'] = pd.DatetimeIndex(df['purchase_dt']).year"
   ]
  },
  {
   "cell_type": "code",
   "execution_count": 34,
   "id": "81a5f9d2",
   "metadata": {},
   "outputs": [],
   "source": [
    "df_year = df.groupby(by=[\"year\"])[\"price\"].agg(['sum','count'])"
   ]
  },
  {
   "cell_type": "code",
   "execution_count": 35,
   "id": "ee70a341",
   "metadata": {},
   "outputs": [
    {
     "data": {
      "text/html": [
       "<div>\n",
       "<style scoped>\n",
       "    .dataframe tbody tr th:only-of-type {\n",
       "        vertical-align: middle;\n",
       "    }\n",
       "\n",
       "    .dataframe tbody tr th {\n",
       "        vertical-align: top;\n",
       "    }\n",
       "\n",
       "    .dataframe thead th {\n",
       "        text-align: right;\n",
       "    }\n",
       "</style>\n",
       "<table border=\"1\" class=\"dataframe\">\n",
       "  <thead>\n",
       "    <tr style=\"text-align: right;\">\n",
       "      <th></th>\n",
       "      <th>sum</th>\n",
       "      <th>count</th>\n",
       "    </tr>\n",
       "    <tr>\n",
       "      <th>year</th>\n",
       "      <th></th>\n",
       "      <th></th>\n",
       "    </tr>\n",
       "  </thead>\n",
       "  <tbody>\n",
       "    <tr>\n",
       "      <th>2018</th>\n",
       "      <td>900.3</td>\n",
       "      <td>42</td>\n",
       "    </tr>\n",
       "    <tr>\n",
       "      <th>2019</th>\n",
       "      <td>1472.9</td>\n",
       "      <td>58</td>\n",
       "    </tr>\n",
       "  </tbody>\n",
       "</table>\n",
       "</div>"
      ],
      "text/plain": [
       "         sum  count\n",
       "year               \n",
       "2018   900.3     42\n",
       "2019  1472.9     58"
      ]
     },
     "execution_count": 35,
     "metadata": {},
     "output_type": "execute_result"
    }
   ],
   "source": [
    "df_year"
   ]
  },
  {
   "cell_type": "markdown",
   "id": "e43d64d1",
   "metadata": {},
   "source": [
    "### Month\n"
   ]
  },
  {
   "cell_type": "code",
   "execution_count": 36,
   "id": "98edb965",
   "metadata": {},
   "outputs": [
    {
     "data": {
      "text/html": [
       "<div>\n",
       "<style scoped>\n",
       "    .dataframe tbody tr th:only-of-type {\n",
       "        vertical-align: middle;\n",
       "    }\n",
       "\n",
       "    .dataframe tbody tr th {\n",
       "        vertical-align: top;\n",
       "    }\n",
       "\n",
       "    .dataframe thead th {\n",
       "        text-align: right;\n",
       "    }\n",
       "</style>\n",
       "<table border=\"1\" class=\"dataframe\">\n",
       "  <thead>\n",
       "    <tr style=\"text-align: right;\">\n",
       "      <th></th>\n",
       "      <th>sum</th>\n",
       "      <th>count</th>\n",
       "    </tr>\n",
       "    <tr>\n",
       "      <th>purchase_month</th>\n",
       "      <th></th>\n",
       "      <th></th>\n",
       "    </tr>\n",
       "  </thead>\n",
       "  <tbody>\n",
       "    <tr>\n",
       "      <th>1</th>\n",
       "      <td>318.8</td>\n",
       "      <td>19</td>\n",
       "    </tr>\n",
       "    <tr>\n",
       "      <th>2</th>\n",
       "      <td>347.8</td>\n",
       "      <td>16</td>\n",
       "    </tr>\n",
       "    <tr>\n",
       "      <th>3</th>\n",
       "      <td>166.1</td>\n",
       "      <td>7</td>\n",
       "    </tr>\n",
       "    <tr>\n",
       "      <th>4</th>\n",
       "      <td>18.0</td>\n",
       "      <td>2</td>\n",
       "    </tr>\n",
       "    <tr>\n",
       "      <th>5</th>\n",
       "      <td>109.5</td>\n",
       "      <td>3</td>\n",
       "    </tr>\n",
       "    <tr>\n",
       "      <th>6</th>\n",
       "      <td>53.1</td>\n",
       "      <td>4</td>\n",
       "    </tr>\n",
       "    <tr>\n",
       "      <th>7</th>\n",
       "      <td>12.0</td>\n",
       "      <td>1</td>\n",
       "    </tr>\n",
       "    <tr>\n",
       "      <th>8</th>\n",
       "      <td>213.1</td>\n",
       "      <td>5</td>\n",
       "    </tr>\n",
       "    <tr>\n",
       "      <th>9</th>\n",
       "      <td>104.5</td>\n",
       "      <td>3</td>\n",
       "    </tr>\n",
       "    <tr>\n",
       "      <th>10</th>\n",
       "      <td>95.1</td>\n",
       "      <td>8</td>\n",
       "    </tr>\n",
       "    <tr>\n",
       "      <th>11</th>\n",
       "      <td>400.7</td>\n",
       "      <td>14</td>\n",
       "    </tr>\n",
       "    <tr>\n",
       "      <th>12</th>\n",
       "      <td>534.5</td>\n",
       "      <td>18</td>\n",
       "    </tr>\n",
       "  </tbody>\n",
       "</table>\n",
       "</div>"
      ],
      "text/plain": [
       "                  sum  count\n",
       "purchase_month              \n",
       "1               318.8     19\n",
       "2               347.8     16\n",
       "3               166.1      7\n",
       "4                18.0      2\n",
       "5               109.5      3\n",
       "6                53.1      4\n",
       "7                12.0      1\n",
       "8               213.1      5\n",
       "9               104.5      3\n",
       "10               95.1      8\n",
       "11              400.7     14\n",
       "12              534.5     18"
      ]
     },
     "execution_count": 36,
     "metadata": {},
     "output_type": "execute_result"
    }
   ],
   "source": [
    "## purchasing month \n",
    "df['purchase_month'] = pd.DatetimeIndex(df['purchase_dt']).month\n",
    "df_purchase_month = df.groupby(by=[\"purchase_month\"])[\"price\"].agg(['sum','count'])\n",
    "df_purchase_month"
   ]
  },
  {
   "cell_type": "code",
   "execution_count": 37,
   "id": "01cd48e8",
   "metadata": {},
   "outputs": [
    {
     "data": {
      "text/html": [
       "<div>\n",
       "<style scoped>\n",
       "    .dataframe tbody tr th:only-of-type {\n",
       "        vertical-align: middle;\n",
       "    }\n",
       "\n",
       "    .dataframe tbody tr th {\n",
       "        vertical-align: top;\n",
       "    }\n",
       "\n",
       "    .dataframe thead th {\n",
       "        text-align: right;\n",
       "    }\n",
       "</style>\n",
       "<table border=\"1\" class=\"dataframe\">\n",
       "  <thead>\n",
       "    <tr style=\"text-align: right;\">\n",
       "      <th></th>\n",
       "      <th>sum</th>\n",
       "      <th>count</th>\n",
       "    </tr>\n",
       "    <tr>\n",
       "      <th>month</th>\n",
       "      <th></th>\n",
       "      <th></th>\n",
       "    </tr>\n",
       "  </thead>\n",
       "  <tbody>\n",
       "    <tr>\n",
       "      <th>1</th>\n",
       "      <td>387.8</td>\n",
       "      <td>19</td>\n",
       "    </tr>\n",
       "    <tr>\n",
       "      <th>2</th>\n",
       "      <td>646.5</td>\n",
       "      <td>21</td>\n",
       "    </tr>\n",
       "    <tr>\n",
       "      <th>3</th>\n",
       "      <td>463.8</td>\n",
       "      <td>19</td>\n",
       "    </tr>\n",
       "    <tr>\n",
       "      <th>4</th>\n",
       "      <td>12.0</td>\n",
       "      <td>1</td>\n",
       "    </tr>\n",
       "    <tr>\n",
       "      <th>11</th>\n",
       "      <td>293.8</td>\n",
       "      <td>18</td>\n",
       "    </tr>\n",
       "    <tr>\n",
       "      <th>12</th>\n",
       "      <td>569.3</td>\n",
       "      <td>22</td>\n",
       "    </tr>\n",
       "  </tbody>\n",
       "</table>\n",
       "</div>"
      ],
      "text/plain": [
       "         sum  count\n",
       "month              \n",
       "1      387.8     19\n",
       "2      646.5     21\n",
       "3      463.8     19\n",
       "4       12.0      1\n",
       "11     293.8     18\n",
       "12     569.3     22"
      ]
     },
     "execution_count": 37,
     "metadata": {},
     "output_type": "execute_result"
    }
   ],
   "source": [
    "df['month'] = pd.DatetimeIndex(df['event_date']).month\n",
    "df_month = df.groupby(by=[\"month\"])[\"price\"].agg(['sum','count'])\n",
    "df_month"
   ]
  },
  {
   "cell_type": "code",
   "execution_count": 38,
   "id": "ec41361f",
   "metadata": {},
   "outputs": [],
   "source": [
    "df_channels.to_csv(\"output/channels.csv\")\n",
    "df_persons.to_csv(\"output/persons.csv\")\n",
    "df_preiscodes.to_csv(\"output/preiscodes.csv\")\n",
    "df_tickets.to_csv(\"output/tickets.csv\")\n",
    "df_year.to_csv(\"output/year.csv\")\n",
    "df_month.to_csv(\"output/month.csv\")\n",
    "df_purchase_month.to_csv(\"output/purchase_month.csv\")"
   ]
  },
  {
   "cell_type": "code",
   "execution_count": null,
   "id": "4b0ca082",
   "metadata": {},
   "outputs": [],
   "source": [
    "\n"
   ]
  },
  {
   "cell_type": "markdown",
   "id": "59405f5d",
   "metadata": {},
   "source": [
    "## Part 2 overview of the revenue generated per date\n"
   ]
  },
  {
   "cell_type": "code",
   "execution_count": 39,
   "id": "49cb0685",
   "metadata": {},
   "outputs": [],
   "source": [
    "df_date = df.groupby(by=[\"year\",\"month\"])[\"price\"].agg(['sum','count'])"
   ]
  },
  {
   "cell_type": "code",
   "execution_count": 40,
   "id": "7526e004",
   "metadata": {},
   "outputs": [],
   "source": [
    "df_date.rename({'sum': 'revenue', 'count': 'numer_of_tickets'}, axis=1, inplace=True)\n"
   ]
  },
  {
   "cell_type": "code",
   "execution_count": 41,
   "id": "abb105c0",
   "metadata": {},
   "outputs": [
    {
     "data": {
      "text/html": [
       "<div>\n",
       "<style scoped>\n",
       "    .dataframe tbody tr th:only-of-type {\n",
       "        vertical-align: middle;\n",
       "    }\n",
       "\n",
       "    .dataframe tbody tr th {\n",
       "        vertical-align: top;\n",
       "    }\n",
       "\n",
       "    .dataframe thead th {\n",
       "        text-align: right;\n",
       "    }\n",
       "</style>\n",
       "<table border=\"1\" class=\"dataframe\">\n",
       "  <thead>\n",
       "    <tr style=\"text-align: right;\">\n",
       "      <th></th>\n",
       "      <th></th>\n",
       "      <th>revenue</th>\n",
       "      <th>numer_of_tickets</th>\n",
       "    </tr>\n",
       "    <tr>\n",
       "      <th>year</th>\n",
       "      <th>month</th>\n",
       "      <th></th>\n",
       "      <th></th>\n",
       "    </tr>\n",
       "  </thead>\n",
       "  <tbody>\n",
       "    <tr>\n",
       "      <th rowspan=\"3\" valign=\"top\">2018</th>\n",
       "      <th>1</th>\n",
       "      <td>37.2</td>\n",
       "      <td>2</td>\n",
       "    </tr>\n",
       "    <tr>\n",
       "      <th>11</th>\n",
       "      <td>293.8</td>\n",
       "      <td>18</td>\n",
       "    </tr>\n",
       "    <tr>\n",
       "      <th>12</th>\n",
       "      <td>569.3</td>\n",
       "      <td>22</td>\n",
       "    </tr>\n",
       "    <tr>\n",
       "      <th rowspan=\"4\" valign=\"top\">2019</th>\n",
       "      <th>1</th>\n",
       "      <td>350.6</td>\n",
       "      <td>17</td>\n",
       "    </tr>\n",
       "    <tr>\n",
       "      <th>2</th>\n",
       "      <td>646.5</td>\n",
       "      <td>21</td>\n",
       "    </tr>\n",
       "    <tr>\n",
       "      <th>3</th>\n",
       "      <td>463.8</td>\n",
       "      <td>19</td>\n",
       "    </tr>\n",
       "    <tr>\n",
       "      <th>4</th>\n",
       "      <td>12.0</td>\n",
       "      <td>1</td>\n",
       "    </tr>\n",
       "  </tbody>\n",
       "</table>\n",
       "</div>"
      ],
      "text/plain": [
       "            revenue  numer_of_tickets\n",
       "year month                           \n",
       "2018 1         37.2                 2\n",
       "     11       293.8                18\n",
       "     12       569.3                22\n",
       "2019 1        350.6                17\n",
       "     2        646.5                21\n",
       "     3        463.8                19\n",
       "     4         12.0                 1"
      ]
     },
     "execution_count": 41,
     "metadata": {},
     "output_type": "execute_result"
    }
   ],
   "source": [
    "df_date"
   ]
  },
  {
   "cell_type": "code",
   "execution_count": 42,
   "id": "c73e53ac",
   "metadata": {},
   "outputs": [],
   "source": [
    "# saving the file under the name fingerpring\n",
    "df_date.to_csv(\"output/fingerprint.csv\")"
   ]
  },
  {
   "cell_type": "code",
   "execution_count": 43,
   "id": "4662197e",
   "metadata": {},
   "outputs": [],
   "source": [
    "# It turns out the most popular months for the events are winter months. they return the most revenue"
   ]
  },
  {
   "cell_type": "markdown",
   "id": "72631c5f",
   "metadata": {},
   "source": [
    "### Full Dataset sorted by year and month\n",
    "\n"
   ]
  },
  {
   "cell_type": "code",
   "execution_count": 44,
   "id": "66793ac8",
   "metadata": {},
   "outputs": [],
   "source": [
    "df.set_index([\"year\",\"month\"], inplace = True)"
   ]
  },
  {
   "cell_type": "code",
   "execution_count": 45,
   "id": "cdb8e65d",
   "metadata": {},
   "outputs": [
    {
     "data": {
      "text/html": [
       "<div>\n",
       "<style scoped>\n",
       "    .dataframe tbody tr th:only-of-type {\n",
       "        vertical-align: middle;\n",
       "    }\n",
       "\n",
       "    .dataframe tbody tr th {\n",
       "        vertical-align: top;\n",
       "    }\n",
       "\n",
       "    .dataframe thead th {\n",
       "        text-align: right;\n",
       "    }\n",
       "</style>\n",
       "<table border=\"1\" class=\"dataframe\">\n",
       "  <thead>\n",
       "    <tr style=\"text-align: right;\">\n",
       "      <th></th>\n",
       "      <th></th>\n",
       "      <th>YRES_ID</th>\n",
       "      <th>ticket_types</th>\n",
       "      <th>person_types</th>\n",
       "      <th>event_date</th>\n",
       "      <th>channel</th>\n",
       "      <th>preiscode</th>\n",
       "      <th>price</th>\n",
       "      <th>purchase_dt</th>\n",
       "      <th>land</th>\n",
       "      <th>purchase_month</th>\n",
       "    </tr>\n",
       "    <tr>\n",
       "      <th>year</th>\n",
       "      <th>month</th>\n",
       "      <th></th>\n",
       "      <th></th>\n",
       "      <th></th>\n",
       "      <th></th>\n",
       "      <th></th>\n",
       "      <th></th>\n",
       "      <th></th>\n",
       "      <th></th>\n",
       "      <th></th>\n",
       "      <th></th>\n",
       "    </tr>\n",
       "  </thead>\n",
       "  <tbody>\n",
       "    <tr>\n",
       "      <th rowspan=\"5\" valign=\"top\">2018</th>\n",
       "      <th>1</th>\n",
       "      <td>66</td>\n",
       "      <td>B</td>\n",
       "      <td>senior</td>\n",
       "      <td>2019-01-03</td>\n",
       "      <td>KASSA3</td>\n",
       "      <td>ffp�</td>\n",
       "      <td>18.6</td>\n",
       "      <td>2018-12-27 23:33:00</td>\n",
       "      <td>Deutschland</td>\n",
       "      <td>12</td>\n",
       "    </tr>\n",
       "    <tr>\n",
       "      <th>1</th>\n",
       "      <td>74</td>\n",
       "      <td>B</td>\n",
       "      <td>adult</td>\n",
       "      <td>2019-01-07</td>\n",
       "      <td>KASSA3</td>\n",
       "      <td>ffp�</td>\n",
       "      <td>18.6</td>\n",
       "      <td>2018-12-29 01:02:13</td>\n",
       "      <td>Deutschland</td>\n",
       "      <td>12</td>\n",
       "    </tr>\n",
       "    <tr>\n",
       "      <th>11</th>\n",
       "      <td>5</td>\n",
       "      <td>C</td>\n",
       "      <td>child</td>\n",
       "      <td>2018-11-29</td>\n",
       "      <td>webshop_3</td>\n",
       "      <td>asdfg</td>\n",
       "      <td>14.0</td>\n",
       "      <td>2018-11-27 20:15:03</td>\n",
       "      <td>Deutschland</td>\n",
       "      <td>11</td>\n",
       "    </tr>\n",
       "    <tr>\n",
       "      <th>11</th>\n",
       "      <td>7</td>\n",
       "      <td>A</td>\n",
       "      <td>child</td>\n",
       "      <td>2018-11-23</td>\n",
       "      <td>KASSA3</td>\n",
       "      <td>ffp�</td>\n",
       "      <td>85.0</td>\n",
       "      <td>2018-11-20 09:52:52</td>\n",
       "      <td>Deutschland</td>\n",
       "      <td>11</td>\n",
       "    </tr>\n",
       "    <tr>\n",
       "      <th>11</th>\n",
       "      <td>15</td>\n",
       "      <td>C</td>\n",
       "      <td>child</td>\n",
       "      <td>2018-11-05</td>\n",
       "      <td>KASSA1</td>\n",
       "      <td>ffp2</td>\n",
       "      <td>9.0</td>\n",
       "      <td>2018-02-11 11:33:49</td>\n",
       "      <td>Deutschland</td>\n",
       "      <td>2</td>\n",
       "    </tr>\n",
       "    <tr>\n",
       "      <th>...</th>\n",
       "      <th>...</th>\n",
       "      <td>...</td>\n",
       "      <td>...</td>\n",
       "      <td>...</td>\n",
       "      <td>...</td>\n",
       "      <td>...</td>\n",
       "      <td>...</td>\n",
       "      <td>...</td>\n",
       "      <td>...</td>\n",
       "      <td>...</td>\n",
       "      <td>...</td>\n",
       "    </tr>\n",
       "    <tr>\n",
       "      <th rowspan=\"5\" valign=\"top\">2019</th>\n",
       "      <th>3</th>\n",
       "      <td>90</td>\n",
       "      <td>C</td>\n",
       "      <td>adult</td>\n",
       "      <td>2019-03-21</td>\n",
       "      <td>webshop_3</td>\n",
       "      <td>asdfg</td>\n",
       "      <td>85.0</td>\n",
       "      <td>2019-11-03 07:35:25</td>\n",
       "      <td>Deutschland</td>\n",
       "      <td>11</td>\n",
       "    </tr>\n",
       "    <tr>\n",
       "      <th>3</th>\n",
       "      <td>97</td>\n",
       "      <td>A</td>\n",
       "      <td>senior</td>\n",
       "      <td>2019-03-09</td>\n",
       "      <td>KASSA1</td>\n",
       "      <td>ffp2</td>\n",
       "      <td>10.5</td>\n",
       "      <td>2019-02-28 18:11:06</td>\n",
       "      <td>Deutschland</td>\n",
       "      <td>2</td>\n",
       "    </tr>\n",
       "    <tr>\n",
       "      <th>3</th>\n",
       "      <td>98</td>\n",
       "      <td>B</td>\n",
       "      <td>child</td>\n",
       "      <td>2019-03-15</td>\n",
       "      <td>KASSA1</td>\n",
       "      <td>ffp2</td>\n",
       "      <td>14.0</td>\n",
       "      <td>2019-08-03 20:04:31</td>\n",
       "      <td>Deutschland</td>\n",
       "      <td>8</td>\n",
       "    </tr>\n",
       "    <tr>\n",
       "      <th>3</th>\n",
       "      <td>99</td>\n",
       "      <td>C</td>\n",
       "      <td>senior</td>\n",
       "      <td>2019-03-17</td>\n",
       "      <td>KASSA3</td>\n",
       "      <td>ffp2</td>\n",
       "      <td>12.0</td>\n",
       "      <td>2019-10-03 16:04:01</td>\n",
       "      <td>Deutschland</td>\n",
       "      <td>10</td>\n",
       "    </tr>\n",
       "    <tr>\n",
       "      <th>4</th>\n",
       "      <td>14</td>\n",
       "      <td>A</td>\n",
       "      <td>senior</td>\n",
       "      <td>2019-04-01</td>\n",
       "      <td>KASSA3</td>\n",
       "      <td>ffp�</td>\n",
       "      <td>12.0</td>\n",
       "      <td>2019-03-27 05:50:34</td>\n",
       "      <td>Deutschland</td>\n",
       "      <td>3</td>\n",
       "    </tr>\n",
       "  </tbody>\n",
       "</table>\n",
       "<p>100 rows × 10 columns</p>\n",
       "</div>"
      ],
      "text/plain": [
       "            YRES_ID ticket_types person_types event_date    channel preiscode  \\\n",
       "year month                                                                      \n",
       "2018 1           66            B       senior 2019-01-03     KASSA3      ffp�   \n",
       "     1           74            B        adult 2019-01-07     KASSA3      ffp�   \n",
       "     11           5            C        child 2018-11-29  webshop_3     asdfg   \n",
       "     11           7            A        child 2018-11-23     KASSA3      ffp�   \n",
       "     11          15            C        child 2018-11-05     KASSA1      ffp2   \n",
       "...             ...          ...          ...        ...        ...       ...   \n",
       "2019 3           90            C        adult 2019-03-21  webshop_3     asdfg   \n",
       "     3           97            A       senior 2019-03-09     KASSA1      ffp2   \n",
       "     3           98            B        child 2019-03-15     KASSA1      ffp2   \n",
       "     3           99            C       senior 2019-03-17     KASSA3      ffp2   \n",
       "     4           14            A       senior 2019-04-01     KASSA3      ffp�   \n",
       "\n",
       "            price         purchase_dt         land  purchase_month  \n",
       "year month                                                          \n",
       "2018 1       18.6 2018-12-27 23:33:00  Deutschland              12  \n",
       "     1       18.6 2018-12-29 01:02:13  Deutschland              12  \n",
       "     11      14.0 2018-11-27 20:15:03  Deutschland              11  \n",
       "     11      85.0 2018-11-20 09:52:52  Deutschland              11  \n",
       "     11       9.0 2018-02-11 11:33:49  Deutschland               2  \n",
       "...           ...                 ...          ...             ...  \n",
       "2019 3       85.0 2019-11-03 07:35:25  Deutschland              11  \n",
       "     3       10.5 2019-02-28 18:11:06  Deutschland               2  \n",
       "     3       14.0 2019-08-03 20:04:31  Deutschland               8  \n",
       "     3       12.0 2019-10-03 16:04:01  Deutschland              10  \n",
       "     4       12.0 2019-03-27 05:50:34  Deutschland               3  \n",
       "\n",
       "[100 rows x 10 columns]"
      ]
     },
     "execution_count": 45,
     "metadata": {},
     "output_type": "execute_result"
    }
   ],
   "source": [
    "df.sort_index()"
   ]
  },
  {
   "cell_type": "markdown",
   "id": "a92efd25",
   "metadata": {},
   "source": [
    "### Extra analysis\n"
   ]
  },
  {
   "cell_type": "code",
   "execution_count": 46,
   "id": "f6bbd017",
   "metadata": {},
   "outputs": [
    {
     "data": {
      "text/plain": [
       "<AxesSubplot:xlabel='purchase_month', ylabel='count'>"
      ]
     },
     "execution_count": 46,
     "metadata": {},
     "output_type": "execute_result"
    },
    {
     "data": {
      "image/png": "[encoded data removed]",
      "text/plain": [
       "<Figure size 432x288 with 1 Axes>"
      ]
     },
     "metadata": {
      "needs_background": "light"
     },
     "output_type": "display_data"
    }
   ],
   "source": [
    "sns.countplot(data = df, x=\"purchase_month\")\n"
   ]
  },
  {
   "cell_type": "code",
   "execution_count": 47,
   "id": "02d9b0a0",
   "metadata": {},
   "outputs": [
    {
     "data": {
      "text/plain": [
       "<AxesSubplot:xlabel='purchase_month', ylabel='count'>"
      ]
     },
     "execution_count": 47,
     "metadata": {},
     "output_type": "execute_result"
    },
    {
     "data": {
      "image/png": "[encoded data removed]",
      "text/plain": [
       "<Figure size 432x288 with 1 Axes>"
      ]
     },
     "metadata": {
      "needs_background": "light"
     },
     "output_type": "display_data"
    }
   ],
   "source": [
    "sns.countplot(data = df, x=\"purchase_month\", hue=\"ticket_types\")"
   ]
  },
  {
   "cell_type": "code",
   "execution_count": null,
   "id": "d3e608cc",
   "metadata": {},
   "outputs": [],
   "source": []
  },
  {
   "cell_type": "code",
   "execution_count": 48,
   "id": "1ac7f6fa",
   "metadata": {},
   "outputs": [],
   "source": [
    "#sns.countplot(data = df_month, x=\"sum\")\n",
    "\n",
    "\n"
   ]
  },
  {
   "cell_type": "code",
   "execution_count": 49,
   "id": "ed308c69",
   "metadata": {},
   "outputs": [
    {
     "data": {
      "text/plain": [
       "<AxesSubplot:xlabel='month'>"
      ]
     },
     "execution_count": 49,
     "metadata": {},
     "output_type": "execute_result"
    },
    {
     "data": {
      "image/png": "[encoded data removed]",
      "text/plain": [
       "<Figure size 432x288 with 1 Axes>"
      ]
     },
     "metadata": {
      "needs_background": "light"
     },
     "output_type": "display_data"
    }
   ],
   "source": [
    "df_month.plot(kind = \"bar\")"
   ]
  },
  {
   "cell_type": "code",
   "execution_count": null,
   "id": "b247bb8b",
   "metadata": {},
   "outputs": [],
   "source": []
  }
 ],
 "metadata": {
  "kernelspec": {
   "display_name": "Python 3",
   "language": "python",
   "name": "python3"
  },
  "language_info": {
   "codemirror_mode": {
    "name": "ipython",
    "version": 3
   },
   "file_extension": ".py",
   "mimetype": "text/x-python",
   "name": "python",
   "nbconvert_exporter": "python",
   "pygments_lexer": "ipython3",
   "version": "3.8.6"
  },
  "toc": {
   "base_numbering": 1,
   "nav_menu": {},
   "number_sections": false,
   "sideBar": true,
   "skip_h1_title": false,
   "title_cell": "Table of Contents",
   "title_sidebar": "Contents",
   "toc_cell": false,
   "toc_position": {},
   "toc_section_display": true,
   "toc_window_display": true
  }
 },
 "nbformat": 4,
 "nbformat_minor": 5
}
